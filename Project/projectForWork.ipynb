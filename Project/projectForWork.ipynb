{
 "cells": [
  {
   "cell_type": "code",
   "execution_count": 1,
   "id": "b8004c10",
   "metadata": {},
   "outputs": [],
   "source": [
    "import pandas as pd\n",
    "import numpy as np"
   ]
  },
  {
   "cell_type": "code",
   "execution_count": 3,
   "id": "5043acfc",
   "metadata": {},
   "outputs": [],
   "source": [
    "%matplotlib inline\n",
    "import matplotlib.pyplot as plt\n",
    "import seaborn as sns"
   ]
  },
  {
   "cell_type": "code",
   "execution_count": 17,
   "id": "3ddadb6b",
   "metadata": {},
   "outputs": [],
   "source": [
    "sns.set(rc = {'figure.figsize':(9, 6)})"
   ]
  },
  {
   "cell_type": "code",
   "execution_count": 18,
   "id": "b6b385dd",
   "metadata": {},
   "outputs": [],
   "source": [
    "event_data = pd.read_csv('C:/Users/Stetsco Denis/Desktop/jupyter/Project/event_data_train.csv')"
   ]
  },
  {
   "cell_type": "code",
   "execution_count": 19,
   "id": "ae73af30",
   "metadata": {},
   "outputs": [
    {
     "data": {
      "text/html": [
       "<div>\n",
       "<style scoped>\n",
       "    .dataframe tbody tr th:only-of-type {\n",
       "        vertical-align: middle;\n",
       "    }\n",
       "\n",
       "    .dataframe tbody tr th {\n",
       "        vertical-align: top;\n",
       "    }\n",
       "\n",
       "    .dataframe thead th {\n",
       "        text-align: right;\n",
       "    }\n",
       "</style>\n",
       "<table border=\"1\" class=\"dataframe\">\n",
       "  <thead>\n",
       "    <tr style=\"text-align: right;\">\n",
       "      <th></th>\n",
       "      <th>step_id</th>\n",
       "      <th>timestamp</th>\n",
       "      <th>action</th>\n",
       "      <th>user_id</th>\n",
       "    </tr>\n",
       "  </thead>\n",
       "  <tbody>\n",
       "    <tr>\n",
       "      <th>0</th>\n",
       "      <td>32815</td>\n",
       "      <td>1434340848</td>\n",
       "      <td>viewed</td>\n",
       "      <td>17632</td>\n",
       "    </tr>\n",
       "    <tr>\n",
       "      <th>1</th>\n",
       "      <td>32815</td>\n",
       "      <td>1434340848</td>\n",
       "      <td>passed</td>\n",
       "      <td>17632</td>\n",
       "    </tr>\n",
       "    <tr>\n",
       "      <th>2</th>\n",
       "      <td>32815</td>\n",
       "      <td>1434340848</td>\n",
       "      <td>discovered</td>\n",
       "      <td>17632</td>\n",
       "    </tr>\n",
       "    <tr>\n",
       "      <th>3</th>\n",
       "      <td>32811</td>\n",
       "      <td>1434340895</td>\n",
       "      <td>discovered</td>\n",
       "      <td>17632</td>\n",
       "    </tr>\n",
       "    <tr>\n",
       "      <th>4</th>\n",
       "      <td>32811</td>\n",
       "      <td>1434340895</td>\n",
       "      <td>viewed</td>\n",
       "      <td>17632</td>\n",
       "    </tr>\n",
       "    <tr>\n",
       "      <th>5</th>\n",
       "      <td>32811</td>\n",
       "      <td>1434340895</td>\n",
       "      <td>passed</td>\n",
       "      <td>17632</td>\n",
       "    </tr>\n",
       "    <tr>\n",
       "      <th>6</th>\n",
       "      <td>32929</td>\n",
       "      <td>1434340921</td>\n",
       "      <td>discovered</td>\n",
       "      <td>17632</td>\n",
       "    </tr>\n",
       "    <tr>\n",
       "      <th>7</th>\n",
       "      <td>32929</td>\n",
       "      <td>1434340921</td>\n",
       "      <td>viewed</td>\n",
       "      <td>17632</td>\n",
       "    </tr>\n",
       "    <tr>\n",
       "      <th>8</th>\n",
       "      <td>32929</td>\n",
       "      <td>1434340939</td>\n",
       "      <td>started_attempt</td>\n",
       "      <td>17632</td>\n",
       "    </tr>\n",
       "    <tr>\n",
       "      <th>9</th>\n",
       "      <td>32929</td>\n",
       "      <td>1434340944</td>\n",
       "      <td>passed</td>\n",
       "      <td>17632</td>\n",
       "    </tr>\n",
       "  </tbody>\n",
       "</table>\n",
       "</div>"
      ],
      "text/plain": [
       "   step_id   timestamp           action  user_id\n",
       "0    32815  1434340848           viewed    17632\n",
       "1    32815  1434340848           passed    17632\n",
       "2    32815  1434340848       discovered    17632\n",
       "3    32811  1434340895       discovered    17632\n",
       "4    32811  1434340895           viewed    17632\n",
       "5    32811  1434340895           passed    17632\n",
       "6    32929  1434340921       discovered    17632\n",
       "7    32929  1434340921           viewed    17632\n",
       "8    32929  1434340939  started_attempt    17632\n",
       "9    32929  1434340944           passed    17632"
      ]
     },
     "execution_count": 19,
     "metadata": {},
     "output_type": "execute_result"
    }
   ],
   "source": [
    "event_data.head(10)"
   ]
  },
  {
   "cell_type": "code",
   "execution_count": 20,
   "id": "d84015b1",
   "metadata": {},
   "outputs": [],
   "source": [
    "event_data['date'] = pd.to_datetime(event_data.timestamp, unit='s')"
   ]
  },
  {
   "cell_type": "code",
   "execution_count": 21,
   "id": "003dcf64",
   "metadata": {},
   "outputs": [
    {
     "data": {
      "text/html": [
       "<div>\n",
       "<style scoped>\n",
       "    .dataframe tbody tr th:only-of-type {\n",
       "        vertical-align: middle;\n",
       "    }\n",
       "\n",
       "    .dataframe tbody tr th {\n",
       "        vertical-align: top;\n",
       "    }\n",
       "\n",
       "    .dataframe thead th {\n",
       "        text-align: right;\n",
       "    }\n",
       "</style>\n",
       "<table border=\"1\" class=\"dataframe\">\n",
       "  <thead>\n",
       "    <tr style=\"text-align: right;\">\n",
       "      <th></th>\n",
       "      <th>step_id</th>\n",
       "      <th>timestamp</th>\n",
       "      <th>action</th>\n",
       "      <th>user_id</th>\n",
       "      <th>date</th>\n",
       "    </tr>\n",
       "  </thead>\n",
       "  <tbody>\n",
       "    <tr>\n",
       "      <th>0</th>\n",
       "      <td>32815</td>\n",
       "      <td>1434340848</td>\n",
       "      <td>viewed</td>\n",
       "      <td>17632</td>\n",
       "      <td>2015-06-15 04:00:48</td>\n",
       "    </tr>\n",
       "    <tr>\n",
       "      <th>1</th>\n",
       "      <td>32815</td>\n",
       "      <td>1434340848</td>\n",
       "      <td>passed</td>\n",
       "      <td>17632</td>\n",
       "      <td>2015-06-15 04:00:48</td>\n",
       "    </tr>\n",
       "    <tr>\n",
       "      <th>2</th>\n",
       "      <td>32815</td>\n",
       "      <td>1434340848</td>\n",
       "      <td>discovered</td>\n",
       "      <td>17632</td>\n",
       "      <td>2015-06-15 04:00:48</td>\n",
       "    </tr>\n",
       "    <tr>\n",
       "      <th>3</th>\n",
       "      <td>32811</td>\n",
       "      <td>1434340895</td>\n",
       "      <td>discovered</td>\n",
       "      <td>17632</td>\n",
       "      <td>2015-06-15 04:01:35</td>\n",
       "    </tr>\n",
       "    <tr>\n",
       "      <th>4</th>\n",
       "      <td>32811</td>\n",
       "      <td>1434340895</td>\n",
       "      <td>viewed</td>\n",
       "      <td>17632</td>\n",
       "      <td>2015-06-15 04:01:35</td>\n",
       "    </tr>\n",
       "  </tbody>\n",
       "</table>\n",
       "</div>"
      ],
      "text/plain": [
       "   step_id   timestamp      action  user_id                date\n",
       "0    32815  1434340848      viewed    17632 2015-06-15 04:00:48\n",
       "1    32815  1434340848      passed    17632 2015-06-15 04:00:48\n",
       "2    32815  1434340848  discovered    17632 2015-06-15 04:00:48\n",
       "3    32811  1434340895  discovered    17632 2015-06-15 04:01:35\n",
       "4    32811  1434340895      viewed    17632 2015-06-15 04:01:35"
      ]
     },
     "execution_count": 21,
     "metadata": {},
     "output_type": "execute_result"
    }
   ],
   "source": [
    "event_data.head()"
   ]
  },
  {
   "cell_type": "code",
   "execution_count": 22,
   "id": "89c97cd1",
   "metadata": {},
   "outputs": [
    {
     "data": {
      "text/plain": [
       "step_id               int64\n",
       "timestamp             int64\n",
       "action               object\n",
       "user_id               int64\n",
       "date         datetime64[ns]\n",
       "dtype: object"
      ]
     },
     "execution_count": 22,
     "metadata": {},
     "output_type": "execute_result"
    }
   ],
   "source": [
    "event_data.dtypes"
   ]
  },
  {
   "cell_type": "code",
   "execution_count": 23,
   "id": "d953c580",
   "metadata": {},
   "outputs": [
    {
     "data": {
      "text/plain": [
       "Timestamp('2018-05-19 23:33:31')"
      ]
     },
     "execution_count": 23,
     "metadata": {},
     "output_type": "execute_result"
    }
   ],
   "source": [
    "event_data.date.max()"
   ]
  },
  {
   "cell_type": "code",
   "execution_count": 24,
   "id": "89f18261",
   "metadata": {},
   "outputs": [],
   "source": [
    "event_data['day'] = event_data.date.dt.date"
   ]
  },
  {
   "cell_type": "code",
   "execution_count": 25,
   "id": "69ed2cf7",
   "metadata": {},
   "outputs": [
    {
     "data": {
      "text/html": [
       "<div>\n",
       "<style scoped>\n",
       "    .dataframe tbody tr th:only-of-type {\n",
       "        vertical-align: middle;\n",
       "    }\n",
       "\n",
       "    .dataframe tbody tr th {\n",
       "        vertical-align: top;\n",
       "    }\n",
       "\n",
       "    .dataframe thead th {\n",
       "        text-align: right;\n",
       "    }\n",
       "</style>\n",
       "<table border=\"1\" class=\"dataframe\">\n",
       "  <thead>\n",
       "    <tr style=\"text-align: right;\">\n",
       "      <th></th>\n",
       "      <th>step_id</th>\n",
       "      <th>timestamp</th>\n",
       "      <th>action</th>\n",
       "      <th>user_id</th>\n",
       "      <th>date</th>\n",
       "      <th>day</th>\n",
       "    </tr>\n",
       "  </thead>\n",
       "  <tbody>\n",
       "    <tr>\n",
       "      <th>0</th>\n",
       "      <td>32815</td>\n",
       "      <td>1434340848</td>\n",
       "      <td>viewed</td>\n",
       "      <td>17632</td>\n",
       "      <td>2015-06-15 04:00:48</td>\n",
       "      <td>2015-06-15</td>\n",
       "    </tr>\n",
       "    <tr>\n",
       "      <th>1</th>\n",
       "      <td>32815</td>\n",
       "      <td>1434340848</td>\n",
       "      <td>passed</td>\n",
       "      <td>17632</td>\n",
       "      <td>2015-06-15 04:00:48</td>\n",
       "      <td>2015-06-15</td>\n",
       "    </tr>\n",
       "    <tr>\n",
       "      <th>2</th>\n",
       "      <td>32815</td>\n",
       "      <td>1434340848</td>\n",
       "      <td>discovered</td>\n",
       "      <td>17632</td>\n",
       "      <td>2015-06-15 04:00:48</td>\n",
       "      <td>2015-06-15</td>\n",
       "    </tr>\n",
       "    <tr>\n",
       "      <th>3</th>\n",
       "      <td>32811</td>\n",
       "      <td>1434340895</td>\n",
       "      <td>discovered</td>\n",
       "      <td>17632</td>\n",
       "      <td>2015-06-15 04:01:35</td>\n",
       "      <td>2015-06-15</td>\n",
       "    </tr>\n",
       "    <tr>\n",
       "      <th>4</th>\n",
       "      <td>32811</td>\n",
       "      <td>1434340895</td>\n",
       "      <td>viewed</td>\n",
       "      <td>17632</td>\n",
       "      <td>2015-06-15 04:01:35</td>\n",
       "      <td>2015-06-15</td>\n",
       "    </tr>\n",
       "  </tbody>\n",
       "</table>\n",
       "</div>"
      ],
      "text/plain": [
       "   step_id   timestamp      action  user_id                date         day\n",
       "0    32815  1434340848      viewed    17632 2015-06-15 04:00:48  2015-06-15\n",
       "1    32815  1434340848      passed    17632 2015-06-15 04:00:48  2015-06-15\n",
       "2    32815  1434340848  discovered    17632 2015-06-15 04:00:48  2015-06-15\n",
       "3    32811  1434340895  discovered    17632 2015-06-15 04:01:35  2015-06-15\n",
       "4    32811  1434340895      viewed    17632 2015-06-15 04:01:35  2015-06-15"
      ]
     },
     "execution_count": 25,
     "metadata": {},
     "output_type": "execute_result"
    }
   ],
   "source": [
    "event_data.head()"
   ]
  },
  {
   "cell_type": "code",
   "execution_count": 26,
   "id": "3d0cc9a1",
   "metadata": {},
   "outputs": [
    {
     "data": {
      "text/plain": [
       "<AxesSubplot:xlabel='day'>"
      ]
     },
     "execution_count": 26,
     "metadata": {},
     "output_type": "execute_result"
    },
    {
     "data": {
      "image/png": "[encoded data removed]",
      "text/plain": [
       "<Figure size 648x432 with 1 Axes>"
      ]
     },
     "metadata": {},
     "output_type": "display_data"
    }
   ],
   "source": [
    "event_data.groupby('day')\\\n",
    "    .user_id.nunique().plot()"
   ]
  },
  {
   "cell_type": "code",
   "execution_count": 27,
   "id": "f269d03a",
   "metadata": {},
   "outputs": [
    {
     "data": {
      "text/html": [
       "<div>\n",
       "<style scoped>\n",
       "    .dataframe tbody tr th:only-of-type {\n",
       "        vertical-align: middle;\n",
       "    }\n",
       "\n",
       "    .dataframe tbody tr th {\n",
       "        vertical-align: top;\n",
       "    }\n",
       "\n",
       "    .dataframe thead th {\n",
       "        text-align: right;\n",
       "    }\n",
       "</style>\n",
       "<table border=\"1\" class=\"dataframe\">\n",
       "  <thead>\n",
       "    <tr style=\"text-align: right;\">\n",
       "      <th></th>\n",
       "      <th>step_id</th>\n",
       "      <th>timestamp</th>\n",
       "      <th>action</th>\n",
       "      <th>user_id</th>\n",
       "      <th>date</th>\n",
       "      <th>day</th>\n",
       "    </tr>\n",
       "  </thead>\n",
       "  <tbody>\n",
       "    <tr>\n",
       "      <th>0</th>\n",
       "      <td>32815</td>\n",
       "      <td>1434340848</td>\n",
       "      <td>viewed</td>\n",
       "      <td>17632</td>\n",
       "      <td>2015-06-15 04:00:48</td>\n",
       "      <td>2015-06-15</td>\n",
       "    </tr>\n",
       "    <tr>\n",
       "      <th>1</th>\n",
       "      <td>32815</td>\n",
       "      <td>1434340848</td>\n",
       "      <td>passed</td>\n",
       "      <td>17632</td>\n",
       "      <td>2015-06-15 04:00:48</td>\n",
       "      <td>2015-06-15</td>\n",
       "    </tr>\n",
       "    <tr>\n",
       "      <th>2</th>\n",
       "      <td>32815</td>\n",
       "      <td>1434340848</td>\n",
       "      <td>discovered</td>\n",
       "      <td>17632</td>\n",
       "      <td>2015-06-15 04:00:48</td>\n",
       "      <td>2015-06-15</td>\n",
       "    </tr>\n",
       "    <tr>\n",
       "      <th>3</th>\n",
       "      <td>32811</td>\n",
       "      <td>1434340895</td>\n",
       "      <td>discovered</td>\n",
       "      <td>17632</td>\n",
       "      <td>2015-06-15 04:01:35</td>\n",
       "      <td>2015-06-15</td>\n",
       "    </tr>\n",
       "    <tr>\n",
       "      <th>4</th>\n",
       "      <td>32811</td>\n",
       "      <td>1434340895</td>\n",
       "      <td>viewed</td>\n",
       "      <td>17632</td>\n",
       "      <td>2015-06-15 04:01:35</td>\n",
       "      <td>2015-06-15</td>\n",
       "    </tr>\n",
       "  </tbody>\n",
       "</table>\n",
       "</div>"
      ],
      "text/plain": [
       "   step_id   timestamp      action  user_id                date         day\n",
       "0    32815  1434340848      viewed    17632 2015-06-15 04:00:48  2015-06-15\n",
       "1    32815  1434340848      passed    17632 2015-06-15 04:00:48  2015-06-15\n",
       "2    32815  1434340848  discovered    17632 2015-06-15 04:00:48  2015-06-15\n",
       "3    32811  1434340895  discovered    17632 2015-06-15 04:01:35  2015-06-15\n",
       "4    32811  1434340895      viewed    17632 2015-06-15 04:01:35  2015-06-15"
      ]
     },
     "execution_count": 27,
     "metadata": {},
     "output_type": "execute_result"
    }
   ],
   "source": [
    "event_data.head()"
   ]
  },
  {
   "cell_type": "code",
   "execution_count": 104,
   "id": "52c8edcb",
   "metadata": {},
   "outputs": [],
   "source": [
    "users_events_data = event_data.pivot_table(index='user_id', columns='action', values='step_id', aggfunc='count',\n",
    "                    fill_value=0).reset_index()"
   ]
  },
  {
   "cell_type": "code",
   "execution_count": 105,
   "id": "d0f1534d",
   "metadata": {},
   "outputs": [
    {
     "data": {
      "text/html": [
       "<div>\n",
       "<style scoped>\n",
       "    .dataframe tbody tr th:only-of-type {\n",
       "        vertical-align: middle;\n",
       "    }\n",
       "\n",
       "    .dataframe tbody tr th {\n",
       "        vertical-align: top;\n",
       "    }\n",
       "\n",
       "    .dataframe thead th {\n",
       "        text-align: right;\n",
       "    }\n",
       "</style>\n",
       "<table border=\"1\" class=\"dataframe\">\n",
       "  <thead>\n",
       "    <tr style=\"text-align: right;\">\n",
       "      <th>action</th>\n",
       "      <th>user_id</th>\n",
       "      <th>discovered</th>\n",
       "      <th>passed</th>\n",
       "      <th>started_attempt</th>\n",
       "      <th>viewed</th>\n",
       "    </tr>\n",
       "  </thead>\n",
       "  <tbody>\n",
       "    <tr>\n",
       "      <th>0</th>\n",
       "      <td>1</td>\n",
       "      <td>1</td>\n",
       "      <td>0</td>\n",
       "      <td>0</td>\n",
       "      <td>1</td>\n",
       "    </tr>\n",
       "    <tr>\n",
       "      <th>1</th>\n",
       "      <td>2</td>\n",
       "      <td>9</td>\n",
       "      <td>9</td>\n",
       "      <td>2</td>\n",
       "      <td>10</td>\n",
       "    </tr>\n",
       "    <tr>\n",
       "      <th>2</th>\n",
       "      <td>3</td>\n",
       "      <td>91</td>\n",
       "      <td>87</td>\n",
       "      <td>30</td>\n",
       "      <td>192</td>\n",
       "    </tr>\n",
       "    <tr>\n",
       "      <th>3</th>\n",
       "      <td>5</td>\n",
       "      <td>11</td>\n",
       "      <td>11</td>\n",
       "      <td>4</td>\n",
       "      <td>12</td>\n",
       "    </tr>\n",
       "    <tr>\n",
       "      <th>4</th>\n",
       "      <td>7</td>\n",
       "      <td>1</td>\n",
       "      <td>1</td>\n",
       "      <td>0</td>\n",
       "      <td>1</td>\n",
       "    </tr>\n",
       "  </tbody>\n",
       "</table>\n",
       "</div>"
      ],
      "text/plain": [
       "action  user_id  discovered  passed  started_attempt  viewed\n",
       "0             1           1       0                0       1\n",
       "1             2           9       9                2      10\n",
       "2             3          91      87               30     192\n",
       "3             5          11      11                4      12\n",
       "4             7           1       1                0       1"
      ]
     },
     "execution_count": 105,
     "metadata": {},
     "output_type": "execute_result"
    }
   ],
   "source": [
    "users_events_data.head()"
   ]
  },
  {
   "cell_type": "code",
   "execution_count": 32,
   "id": "3fe0f164",
   "metadata": {},
   "outputs": [],
   "source": [
    "submissions_data = pd.read_csv('C:/Users/Stetsco Denis/Desktop/jupyter/Project/submissions_data_train.csv')"
   ]
  },
  {
   "cell_type": "code",
   "execution_count": 33,
   "id": "8ab668a3",
   "metadata": {},
   "outputs": [
    {
     "data": {
      "text/html": [
       "<div>\n",
       "<style scoped>\n",
       "    .dataframe tbody tr th:only-of-type {\n",
       "        vertical-align: middle;\n",
       "    }\n",
       "\n",
       "    .dataframe tbody tr th {\n",
       "        vertical-align: top;\n",
       "    }\n",
       "\n",
       "    .dataframe thead th {\n",
       "        text-align: right;\n",
       "    }\n",
       "</style>\n",
       "<table border=\"1\" class=\"dataframe\">\n",
       "  <thead>\n",
       "    <tr style=\"text-align: right;\">\n",
       "      <th></th>\n",
       "      <th>step_id</th>\n",
       "      <th>timestamp</th>\n",
       "      <th>submission_status</th>\n",
       "      <th>user_id</th>\n",
       "    </tr>\n",
       "  </thead>\n",
       "  <tbody>\n",
       "    <tr>\n",
       "      <th>0</th>\n",
       "      <td>31971</td>\n",
       "      <td>1434349275</td>\n",
       "      <td>correct</td>\n",
       "      <td>15853</td>\n",
       "    </tr>\n",
       "    <tr>\n",
       "      <th>1</th>\n",
       "      <td>31972</td>\n",
       "      <td>1434348300</td>\n",
       "      <td>correct</td>\n",
       "      <td>15853</td>\n",
       "    </tr>\n",
       "    <tr>\n",
       "      <th>2</th>\n",
       "      <td>31972</td>\n",
       "      <td>1478852149</td>\n",
       "      <td>wrong</td>\n",
       "      <td>15853</td>\n",
       "    </tr>\n",
       "    <tr>\n",
       "      <th>3</th>\n",
       "      <td>31972</td>\n",
       "      <td>1478852164</td>\n",
       "      <td>correct</td>\n",
       "      <td>15853</td>\n",
       "    </tr>\n",
       "    <tr>\n",
       "      <th>4</th>\n",
       "      <td>31976</td>\n",
       "      <td>1434348123</td>\n",
       "      <td>wrong</td>\n",
       "      <td>15853</td>\n",
       "    </tr>\n",
       "  </tbody>\n",
       "</table>\n",
       "</div>"
      ],
      "text/plain": [
       "   step_id   timestamp submission_status  user_id\n",
       "0    31971  1434349275           correct    15853\n",
       "1    31972  1434348300           correct    15853\n",
       "2    31972  1478852149             wrong    15853\n",
       "3    31972  1478852164           correct    15853\n",
       "4    31976  1434348123             wrong    15853"
      ]
     },
     "execution_count": 33,
     "metadata": {},
     "output_type": "execute_result"
    }
   ],
   "source": [
    "submissions_data.head()"
   ]
  },
  {
   "cell_type": "code",
   "execution_count": 34,
   "id": "8167ae49",
   "metadata": {},
   "outputs": [],
   "source": [
    "submissions_data['date'] = pd.to_datetime(submissions_data.timestamp, unit='s')"
   ]
  },
  {
   "cell_type": "code",
   "execution_count": 35,
   "id": "08a70ce8",
   "metadata": {},
   "outputs": [],
   "source": [
    "submissions_data['day'] = submissions_data.date.dt.date"
   ]
  },
  {
   "cell_type": "code",
   "execution_count": 36,
   "id": "a163dfaa",
   "metadata": {},
   "outputs": [
    {
     "data": {
      "text/html": [
       "<div>\n",
       "<style scoped>\n",
       "    .dataframe tbody tr th:only-of-type {\n",
       "        vertical-align: middle;\n",
       "    }\n",
       "\n",
       "    .dataframe tbody tr th {\n",
       "        vertical-align: top;\n",
       "    }\n",
       "\n",
       "    .dataframe thead th {\n",
       "        text-align: right;\n",
       "    }\n",
       "</style>\n",
       "<table border=\"1\" class=\"dataframe\">\n",
       "  <thead>\n",
       "    <tr style=\"text-align: right;\">\n",
       "      <th></th>\n",
       "      <th>step_id</th>\n",
       "      <th>timestamp</th>\n",
       "      <th>submission_status</th>\n",
       "      <th>user_id</th>\n",
       "      <th>date</th>\n",
       "      <th>day</th>\n",
       "    </tr>\n",
       "  </thead>\n",
       "  <tbody>\n",
       "    <tr>\n",
       "      <th>0</th>\n",
       "      <td>31971</td>\n",
       "      <td>1434349275</td>\n",
       "      <td>correct</td>\n",
       "      <td>15853</td>\n",
       "      <td>2015-06-15 06:21:15</td>\n",
       "      <td>2015-06-15</td>\n",
       "    </tr>\n",
       "    <tr>\n",
       "      <th>1</th>\n",
       "      <td>31972</td>\n",
       "      <td>1434348300</td>\n",
       "      <td>correct</td>\n",
       "      <td>15853</td>\n",
       "      <td>2015-06-15 06:05:00</td>\n",
       "      <td>2015-06-15</td>\n",
       "    </tr>\n",
       "    <tr>\n",
       "      <th>2</th>\n",
       "      <td>31972</td>\n",
       "      <td>1478852149</td>\n",
       "      <td>wrong</td>\n",
       "      <td>15853</td>\n",
       "      <td>2016-11-11 08:15:49</td>\n",
       "      <td>2016-11-11</td>\n",
       "    </tr>\n",
       "    <tr>\n",
       "      <th>3</th>\n",
       "      <td>31972</td>\n",
       "      <td>1478852164</td>\n",
       "      <td>correct</td>\n",
       "      <td>15853</td>\n",
       "      <td>2016-11-11 08:16:04</td>\n",
       "      <td>2016-11-11</td>\n",
       "    </tr>\n",
       "    <tr>\n",
       "      <th>4</th>\n",
       "      <td>31976</td>\n",
       "      <td>1434348123</td>\n",
       "      <td>wrong</td>\n",
       "      <td>15853</td>\n",
       "      <td>2015-06-15 06:02:03</td>\n",
       "      <td>2015-06-15</td>\n",
       "    </tr>\n",
       "  </tbody>\n",
       "</table>\n",
       "</div>"
      ],
      "text/plain": [
       "   step_id   timestamp submission_status  user_id                date  \\\n",
       "0    31971  1434349275           correct    15853 2015-06-15 06:21:15   \n",
       "1    31972  1434348300           correct    15853 2015-06-15 06:05:00   \n",
       "2    31972  1478852149             wrong    15853 2016-11-11 08:15:49   \n",
       "3    31972  1478852164           correct    15853 2016-11-11 08:16:04   \n",
       "4    31976  1434348123             wrong    15853 2015-06-15 06:02:03   \n",
       "\n",
       "          day  \n",
       "0  2015-06-15  \n",
       "1  2015-06-15  \n",
       "2  2016-11-11  \n",
       "3  2016-11-11  \n",
       "4  2015-06-15  "
      ]
     },
     "execution_count": 36,
     "metadata": {},
     "output_type": "execute_result"
    }
   ],
   "source": [
    "submissions_data.head()"
   ]
  },
  {
   "cell_type": "code",
   "execution_count": 38,
   "id": "a37c471a",
   "metadata": {},
   "outputs": [],
   "source": [
    "users_scores = submissions_data.pivot_table(index='user_id', columns='submission_status', values='step_id', aggfunc='count',\n",
    "                    fill_value=0).reset_index()"
   ]
  },
  {
   "cell_type": "code",
   "execution_count": 39,
   "id": "90630271",
   "metadata": {},
   "outputs": [
    {
     "data": {
      "text/html": [
       "<div>\n",
       "<style scoped>\n",
       "    .dataframe tbody tr th:only-of-type {\n",
       "        vertical-align: middle;\n",
       "    }\n",
       "\n",
       "    .dataframe tbody tr th {\n",
       "        vertical-align: top;\n",
       "    }\n",
       "\n",
       "    .dataframe thead th {\n",
       "        text-align: right;\n",
       "    }\n",
       "</style>\n",
       "<table border=\"1\" class=\"dataframe\">\n",
       "  <thead>\n",
       "    <tr style=\"text-align: right;\">\n",
       "      <th>submission_status</th>\n",
       "      <th>user_id</th>\n",
       "      <th>correct</th>\n",
       "      <th>wrong</th>\n",
       "    </tr>\n",
       "  </thead>\n",
       "  <tbody>\n",
       "    <tr>\n",
       "      <th>0</th>\n",
       "      <td>2</td>\n",
       "      <td>2</td>\n",
       "      <td>0</td>\n",
       "    </tr>\n",
       "    <tr>\n",
       "      <th>1</th>\n",
       "      <td>3</td>\n",
       "      <td>29</td>\n",
       "      <td>23</td>\n",
       "    </tr>\n",
       "    <tr>\n",
       "      <th>2</th>\n",
       "      <td>5</td>\n",
       "      <td>2</td>\n",
       "      <td>2</td>\n",
       "    </tr>\n",
       "    <tr>\n",
       "      <th>3</th>\n",
       "      <td>8</td>\n",
       "      <td>9</td>\n",
       "      <td>21</td>\n",
       "    </tr>\n",
       "    <tr>\n",
       "      <th>4</th>\n",
       "      <td>14</td>\n",
       "      <td>0</td>\n",
       "      <td>1</td>\n",
       "    </tr>\n",
       "  </tbody>\n",
       "</table>\n",
       "</div>"
      ],
      "text/plain": [
       "submission_status  user_id  correct  wrong\n",
       "0                        2        2      0\n",
       "1                        3       29     23\n",
       "2                        5        2      2\n",
       "3                        8        9     21\n",
       "4                       14        0      1"
      ]
     },
     "execution_count": 39,
     "metadata": {},
     "output_type": "execute_result"
    }
   ],
   "source": [
    "users_scores.head()"
   ]
  },
  {
   "cell_type": "code",
   "execution_count": 73,
   "id": "87c56997",
   "metadata": {},
   "outputs": [],
   "source": [
    "gap_data = event_data[['user_id', 'day', 'timestamp']].drop_duplicates(subset=['user_id', 'day'])\\\n",
    "        .groupby('user_id')['timestamp'].apply(list) \\\n",
    "        .apply(np.diff).values"
   ]
  },
  {
   "cell_type": "code",
   "execution_count": 74,
   "id": "ec3002da",
   "metadata": {},
   "outputs": [],
   "source": [
    "gap_data = pd.Series(np.concatenate(gap_data, axis=0))"
   ]
  },
  {
   "cell_type": "code",
   "execution_count": 75,
   "id": "89b9bf05",
   "metadata": {},
   "outputs": [],
   "source": [
    "gap_data = gap_data / (24*60*60)"
   ]
  },
  {
   "cell_type": "code",
   "execution_count": 76,
   "id": "f1423340",
   "metadata": {},
   "outputs": [
    {
     "data": {
      "text/plain": [
       "<AxesSubplot:>"
      ]
     },
     "execution_count": 76,
     "metadata": {},
     "output_type": "execute_result"
    },
    {
     "data": {
      "image/png": "[encoded data removed]",
      "text/plain": [
       "<Figure size 648x432 with 1 Axes>"
      ]
     },
     "metadata": {},
     "output_type": "display_data"
    }
   ],
   "source": [
    "gap_data[gap_data < 200].hist()"
   ]
  },
  {
   "cell_type": "code",
   "execution_count": 79,
   "id": "89b5e2c8",
   "metadata": {},
   "outputs": [
    {
     "data": {
      "text/plain": [
       "34.77025787037036"
      ]
     },
     "execution_count": 79,
     "metadata": {},
     "output_type": "execute_result"
    }
   ],
   "source": [
    "gap_data.quantile(0.93)"
   ]
  },
  {
   "cell_type": "code",
   "execution_count": 80,
   "id": "f669c46a",
   "metadata": {},
   "outputs": [
    {
     "data": {
      "text/html": [
       "<div>\n",
       "<style scoped>\n",
       "    .dataframe tbody tr th:only-of-type {\n",
       "        vertical-align: middle;\n",
       "    }\n",
       "\n",
       "    .dataframe tbody tr th {\n",
       "        vertical-align: top;\n",
       "    }\n",
       "\n",
       "    .dataframe thead th {\n",
       "        text-align: right;\n",
       "    }\n",
       "</style>\n",
       "<table border=\"1\" class=\"dataframe\">\n",
       "  <thead>\n",
       "    <tr style=\"text-align: right;\">\n",
       "      <th></th>\n",
       "      <th>step_id</th>\n",
       "      <th>timestamp</th>\n",
       "      <th>action</th>\n",
       "      <th>user_id</th>\n",
       "      <th>date</th>\n",
       "      <th>day</th>\n",
       "    </tr>\n",
       "  </thead>\n",
       "  <tbody>\n",
       "    <tr>\n",
       "      <th>3480698</th>\n",
       "      <td>33375</td>\n",
       "      <td>1526772685</td>\n",
       "      <td>viewed</td>\n",
       "      <td>11677</td>\n",
       "      <td>2018-05-19 23:31:25</td>\n",
       "      <td>2018-05-19</td>\n",
       "    </tr>\n",
       "    <tr>\n",
       "      <th>3480699</th>\n",
       "      <td>32815</td>\n",
       "      <td>1526772750</td>\n",
       "      <td>viewed</td>\n",
       "      <td>5198</td>\n",
       "      <td>2018-05-19 23:32:30</td>\n",
       "      <td>2018-05-19</td>\n",
       "    </tr>\n",
       "    <tr>\n",
       "      <th>3480700</th>\n",
       "      <td>32815</td>\n",
       "      <td>1526772750</td>\n",
       "      <td>discovered</td>\n",
       "      <td>5198</td>\n",
       "      <td>2018-05-19 23:32:30</td>\n",
       "      <td>2018-05-19</td>\n",
       "    </tr>\n",
       "    <tr>\n",
       "      <th>3480701</th>\n",
       "      <td>32815</td>\n",
       "      <td>1526772750</td>\n",
       "      <td>passed</td>\n",
       "      <td>5198</td>\n",
       "      <td>2018-05-19 23:32:30</td>\n",
       "      <td>2018-05-19</td>\n",
       "    </tr>\n",
       "    <tr>\n",
       "      <th>3480702</th>\n",
       "      <td>33892</td>\n",
       "      <td>1526772811</td>\n",
       "      <td>viewed</td>\n",
       "      <td>18526</td>\n",
       "      <td>2018-05-19 23:33:31</td>\n",
       "      <td>2018-05-19</td>\n",
       "    </tr>\n",
       "  </tbody>\n",
       "</table>\n",
       "</div>"
      ],
      "text/plain": [
       "         step_id   timestamp      action  user_id                date  \\\n",
       "3480698    33375  1526772685      viewed    11677 2018-05-19 23:31:25   \n",
       "3480699    32815  1526772750      viewed     5198 2018-05-19 23:32:30   \n",
       "3480700    32815  1526772750  discovered     5198 2018-05-19 23:32:30   \n",
       "3480701    32815  1526772750      passed     5198 2018-05-19 23:32:30   \n",
       "3480702    33892  1526772811      viewed    18526 2018-05-19 23:33:31   \n",
       "\n",
       "                day  \n",
       "3480698  2018-05-19  \n",
       "3480699  2018-05-19  \n",
       "3480700  2018-05-19  \n",
       "3480701  2018-05-19  \n",
       "3480702  2018-05-19  "
      ]
     },
     "execution_count": 80,
     "metadata": {},
     "output_type": "execute_result"
    }
   ],
   "source": [
    " event_data.tail()\n",
    "    "
   ]
  },
  {
   "cell_type": "code",
   "execution_count": 89,
   "id": "5e60dba2",
   "metadata": {},
   "outputs": [],
   "source": [
    "drop_out_threshold = 30*24*60*60\n",
    "now = 1526772811"
   ]
  },
  {
   "cell_type": "code",
   "execution_count": 123,
   "id": "8d31399e",
   "metadata": {},
   "outputs": [],
   "source": [
    "users_data = event_data.groupby('user_id', as_index=False).agg({'timestamp' : 'max'}) \\\n",
    "     .rename(columns={'timestamp' : 'last_timestamp'})"
   ]
  },
  {
   "cell_type": "code",
   "execution_count": 124,
   "id": "a7026f22",
   "metadata": {},
   "outputs": [],
   "source": [
    "users_data['is_gone_user'] = (now - users_data.last_timestamp) > drop_out_threshold"
   ]
  },
  {
   "cell_type": "code",
   "execution_count": 125,
   "id": "7dd4734b",
   "metadata": {},
   "outputs": [
    {
     "data": {
      "text/html": [
       "<div>\n",
       "<style scoped>\n",
       "    .dataframe tbody tr th:only-of-type {\n",
       "        vertical-align: middle;\n",
       "    }\n",
       "\n",
       "    .dataframe tbody tr th {\n",
       "        vertical-align: top;\n",
       "    }\n",
       "\n",
       "    .dataframe thead th {\n",
       "        text-align: right;\n",
       "    }\n",
       "</style>\n",
       "<table border=\"1\" class=\"dataframe\">\n",
       "  <thead>\n",
       "    <tr style=\"text-align: right;\">\n",
       "      <th></th>\n",
       "      <th>user_id</th>\n",
       "      <th>last_timestamp</th>\n",
       "      <th>is_gone_user</th>\n",
       "    </tr>\n",
       "  </thead>\n",
       "  <tbody>\n",
       "    <tr>\n",
       "      <th>0</th>\n",
       "      <td>1</td>\n",
       "      <td>1472827464</td>\n",
       "      <td>True</td>\n",
       "    </tr>\n",
       "    <tr>\n",
       "      <th>1</th>\n",
       "      <td>2</td>\n",
       "      <td>1519226966</td>\n",
       "      <td>True</td>\n",
       "    </tr>\n",
       "    <tr>\n",
       "      <th>2</th>\n",
       "      <td>3</td>\n",
       "      <td>1444581588</td>\n",
       "      <td>True</td>\n",
       "    </tr>\n",
       "    <tr>\n",
       "      <th>3</th>\n",
       "      <td>5</td>\n",
       "      <td>1499859939</td>\n",
       "      <td>True</td>\n",
       "    </tr>\n",
       "    <tr>\n",
       "      <th>4</th>\n",
       "      <td>7</td>\n",
       "      <td>1521634660</td>\n",
       "      <td>True</td>\n",
       "    </tr>\n",
       "  </tbody>\n",
       "</table>\n",
       "</div>"
      ],
      "text/plain": [
       "   user_id  last_timestamp  is_gone_user\n",
       "0        1      1472827464          True\n",
       "1        2      1519226966          True\n",
       "2        3      1444581588          True\n",
       "3        5      1499859939          True\n",
       "4        7      1521634660          True"
      ]
     },
     "execution_count": 125,
     "metadata": {},
     "output_type": "execute_result"
    }
   ],
   "source": [
    "users_data.head()"
   ]
  },
  {
   "cell_type": "code",
   "execution_count": 126,
   "id": "8fdbeb25",
   "metadata": {},
   "outputs": [],
   "source": [
    "users_data = users_data.merge(users_scores, on='user_id', how='outer')"
   ]
  },
  {
   "cell_type": "code",
   "execution_count": 127,
   "id": "53797e87",
   "metadata": {},
   "outputs": [],
   "source": [
    "users_data = users_data.fillna(0)"
   ]
  },
  {
   "cell_type": "code",
   "execution_count": 128,
   "id": "73a214f8",
   "metadata": {},
   "outputs": [
    {
     "data": {
      "text/html": [
       "<div>\n",
       "<style scoped>\n",
       "    .dataframe tbody tr th:only-of-type {\n",
       "        vertical-align: middle;\n",
       "    }\n",
       "\n",
       "    .dataframe tbody tr th {\n",
       "        vertical-align: top;\n",
       "    }\n",
       "\n",
       "    .dataframe thead th {\n",
       "        text-align: right;\n",
       "    }\n",
       "</style>\n",
       "<table border=\"1\" class=\"dataframe\">\n",
       "  <thead>\n",
       "    <tr style=\"text-align: right;\">\n",
       "      <th></th>\n",
       "      <th>user_id</th>\n",
       "      <th>last_timestamp</th>\n",
       "      <th>is_gone_user</th>\n",
       "      <th>correct</th>\n",
       "      <th>wrong</th>\n",
       "    </tr>\n",
       "  </thead>\n",
       "  <tbody>\n",
       "    <tr>\n",
       "      <th>0</th>\n",
       "      <td>1</td>\n",
       "      <td>1472827464</td>\n",
       "      <td>True</td>\n",
       "      <td>0.0</td>\n",
       "      <td>0.0</td>\n",
       "    </tr>\n",
       "    <tr>\n",
       "      <th>1</th>\n",
       "      <td>2</td>\n",
       "      <td>1519226966</td>\n",
       "      <td>True</td>\n",
       "      <td>2.0</td>\n",
       "      <td>0.0</td>\n",
       "    </tr>\n",
       "    <tr>\n",
       "      <th>2</th>\n",
       "      <td>3</td>\n",
       "      <td>1444581588</td>\n",
       "      <td>True</td>\n",
       "      <td>29.0</td>\n",
       "      <td>23.0</td>\n",
       "    </tr>\n",
       "    <tr>\n",
       "      <th>3</th>\n",
       "      <td>5</td>\n",
       "      <td>1499859939</td>\n",
       "      <td>True</td>\n",
       "      <td>2.0</td>\n",
       "      <td>2.0</td>\n",
       "    </tr>\n",
       "    <tr>\n",
       "      <th>4</th>\n",
       "      <td>7</td>\n",
       "      <td>1521634660</td>\n",
       "      <td>True</td>\n",
       "      <td>0.0</td>\n",
       "      <td>0.0</td>\n",
       "    </tr>\n",
       "  </tbody>\n",
       "</table>\n",
       "</div>"
      ],
      "text/plain": [
       "   user_id  last_timestamp  is_gone_user  correct  wrong\n",
       "0        1      1472827464          True      0.0    0.0\n",
       "1        2      1519226966          True      2.0    0.0\n",
       "2        3      1444581588          True     29.0   23.0\n",
       "3        5      1499859939          True      2.0    2.0\n",
       "4        7      1521634660          True      0.0    0.0"
      ]
     },
     "execution_count": 128,
     "metadata": {},
     "output_type": "execute_result"
    }
   ],
   "source": [
    "users_data.head()"
   ]
  },
  {
   "cell_type": "code",
   "execution_count": 129,
   "id": "2daed9df",
   "metadata": {},
   "outputs": [
    {
     "data": {
      "text/plain": [
       "(19234, 5)"
      ]
     },
     "execution_count": 129,
     "metadata": {},
     "output_type": "execute_result"
    }
   ],
   "source": [
    "users_data.shape\n"
   ]
  },
  {
   "cell_type": "code",
   "execution_count": 130,
   "id": "510439a1",
   "metadata": {},
   "outputs": [],
   "source": [
    "users_data = users_data.merge(users_events_data, on='user_id', how='outer')"
   ]
  },
  {
   "cell_type": "code",
   "execution_count": 131,
   "id": "2879f21e",
   "metadata": {},
   "outputs": [
    {
     "data": {
      "text/html": [
       "<div>\n",
       "<style scoped>\n",
       "    .dataframe tbody tr th:only-of-type {\n",
       "        vertical-align: middle;\n",
       "    }\n",
       "\n",
       "    .dataframe tbody tr th {\n",
       "        vertical-align: top;\n",
       "    }\n",
       "\n",
       "    .dataframe thead th {\n",
       "        text-align: right;\n",
       "    }\n",
       "</style>\n",
       "<table border=\"1\" class=\"dataframe\">\n",
       "  <thead>\n",
       "    <tr style=\"text-align: right;\">\n",
       "      <th></th>\n",
       "      <th>user_id</th>\n",
       "      <th>last_timestamp</th>\n",
       "      <th>is_gone_user</th>\n",
       "      <th>correct</th>\n",
       "      <th>wrong</th>\n",
       "      <th>discovered</th>\n",
       "      <th>passed</th>\n",
       "      <th>started_attempt</th>\n",
       "      <th>viewed</th>\n",
       "    </tr>\n",
       "  </thead>\n",
       "  <tbody>\n",
       "    <tr>\n",
       "      <th>0</th>\n",
       "      <td>1</td>\n",
       "      <td>1472827464</td>\n",
       "      <td>True</td>\n",
       "      <td>0.0</td>\n",
       "      <td>0.0</td>\n",
       "      <td>1</td>\n",
       "      <td>0</td>\n",
       "      <td>0</td>\n",
       "      <td>1</td>\n",
       "    </tr>\n",
       "    <tr>\n",
       "      <th>1</th>\n",
       "      <td>2</td>\n",
       "      <td>1519226966</td>\n",
       "      <td>True</td>\n",
       "      <td>2.0</td>\n",
       "      <td>0.0</td>\n",
       "      <td>9</td>\n",
       "      <td>9</td>\n",
       "      <td>2</td>\n",
       "      <td>10</td>\n",
       "    </tr>\n",
       "    <tr>\n",
       "      <th>2</th>\n",
       "      <td>3</td>\n",
       "      <td>1444581588</td>\n",
       "      <td>True</td>\n",
       "      <td>29.0</td>\n",
       "      <td>23.0</td>\n",
       "      <td>91</td>\n",
       "      <td>87</td>\n",
       "      <td>30</td>\n",
       "      <td>192</td>\n",
       "    </tr>\n",
       "    <tr>\n",
       "      <th>3</th>\n",
       "      <td>5</td>\n",
       "      <td>1499859939</td>\n",
       "      <td>True</td>\n",
       "      <td>2.0</td>\n",
       "      <td>2.0</td>\n",
       "      <td>11</td>\n",
       "      <td>11</td>\n",
       "      <td>4</td>\n",
       "      <td>12</td>\n",
       "    </tr>\n",
       "    <tr>\n",
       "      <th>4</th>\n",
       "      <td>7</td>\n",
       "      <td>1521634660</td>\n",
       "      <td>True</td>\n",
       "      <td>0.0</td>\n",
       "      <td>0.0</td>\n",
       "      <td>1</td>\n",
       "      <td>1</td>\n",
       "      <td>0</td>\n",
       "      <td>1</td>\n",
       "    </tr>\n",
       "  </tbody>\n",
       "</table>\n",
       "</div>"
      ],
      "text/plain": [
       "   user_id  last_timestamp  is_gone_user  correct  wrong  discovered  passed  \\\n",
       "0        1      1472827464          True      0.0    0.0           1       0   \n",
       "1        2      1519226966          True      2.0    0.0           9       9   \n",
       "2        3      1444581588          True     29.0   23.0          91      87   \n",
       "3        5      1499859939          True      2.0    2.0          11      11   \n",
       "4        7      1521634660          True      0.0    0.0           1       1   \n",
       "\n",
       "   started_attempt  viewed  \n",
       "0                0       1  \n",
       "1                2      10  \n",
       "2               30     192  \n",
       "3                4      12  \n",
       "4                0       1  "
      ]
     },
     "execution_count": 131,
     "metadata": {},
     "output_type": "execute_result"
    }
   ],
   "source": [
    "users_data.head()"
   ]
  },
  {
   "cell_type": "code",
   "execution_count": 132,
   "id": "2e944623",
   "metadata": {},
   "outputs": [],
   "source": [
    "users_days = event_data.groupby('user_id').day.nunique().to_frame().reset_index()"
   ]
  },
  {
   "cell_type": "code",
   "execution_count": 133,
   "id": "0ae21697",
   "metadata": {},
   "outputs": [
    {
     "data": {
      "text/html": [
       "<div>\n",
       "<style scoped>\n",
       "    .dataframe tbody tr th:only-of-type {\n",
       "        vertical-align: middle;\n",
       "    }\n",
       "\n",
       "    .dataframe tbody tr th {\n",
       "        vertical-align: top;\n",
       "    }\n",
       "\n",
       "    .dataframe thead th {\n",
       "        text-align: right;\n",
       "    }\n",
       "</style>\n",
       "<table border=\"1\" class=\"dataframe\">\n",
       "  <thead>\n",
       "    <tr style=\"text-align: right;\">\n",
       "      <th></th>\n",
       "      <th>user_id</th>\n",
       "      <th>day</th>\n",
       "    </tr>\n",
       "  </thead>\n",
       "  <tbody>\n",
       "    <tr>\n",
       "      <th>0</th>\n",
       "      <td>1</td>\n",
       "      <td>1</td>\n",
       "    </tr>\n",
       "    <tr>\n",
       "      <th>1</th>\n",
       "      <td>2</td>\n",
       "      <td>2</td>\n",
       "    </tr>\n",
       "    <tr>\n",
       "      <th>2</th>\n",
       "      <td>3</td>\n",
       "      <td>7</td>\n",
       "    </tr>\n",
       "    <tr>\n",
       "      <th>3</th>\n",
       "      <td>5</td>\n",
       "      <td>2</td>\n",
       "    </tr>\n",
       "    <tr>\n",
       "      <th>4</th>\n",
       "      <td>7</td>\n",
       "      <td>1</td>\n",
       "    </tr>\n",
       "  </tbody>\n",
       "</table>\n",
       "</div>"
      ],
      "text/plain": [
       "   user_id  day\n",
       "0        1    1\n",
       "1        2    2\n",
       "2        3    7\n",
       "3        5    2\n",
       "4        7    1"
      ]
     },
     "execution_count": 133,
     "metadata": {},
     "output_type": "execute_result"
    }
   ],
   "source": [
    "users_days.head()"
   ]
  },
  {
   "cell_type": "code",
   "execution_count": 134,
   "id": "5a1c31cb",
   "metadata": {},
   "outputs": [],
   "source": [
    "users_data = users_data.merge(users_days, on='user_id', how='outer')"
   ]
  },
  {
   "cell_type": "code",
   "execution_count": 135,
   "id": "e0d981f9",
   "metadata": {},
   "outputs": [
    {
     "data": {
      "text/html": [
       "<div>\n",
       "<style scoped>\n",
       "    .dataframe tbody tr th:only-of-type {\n",
       "        vertical-align: middle;\n",
       "    }\n",
       "\n",
       "    .dataframe tbody tr th {\n",
       "        vertical-align: top;\n",
       "    }\n",
       "\n",
       "    .dataframe thead th {\n",
       "        text-align: right;\n",
       "    }\n",
       "</style>\n",
       "<table border=\"1\" class=\"dataframe\">\n",
       "  <thead>\n",
       "    <tr style=\"text-align: right;\">\n",
       "      <th></th>\n",
       "      <th>user_id</th>\n",
       "      <th>last_timestamp</th>\n",
       "      <th>is_gone_user</th>\n",
       "      <th>correct</th>\n",
       "      <th>wrong</th>\n",
       "      <th>discovered</th>\n",
       "      <th>passed</th>\n",
       "      <th>started_attempt</th>\n",
       "      <th>viewed</th>\n",
       "      <th>day</th>\n",
       "    </tr>\n",
       "  </thead>\n",
       "  <tbody>\n",
       "    <tr>\n",
       "      <th>0</th>\n",
       "      <td>1</td>\n",
       "      <td>1472827464</td>\n",
       "      <td>True</td>\n",
       "      <td>0.0</td>\n",
       "      <td>0.0</td>\n",
       "      <td>1</td>\n",
       "      <td>0</td>\n",
       "      <td>0</td>\n",
       "      <td>1</td>\n",
       "      <td>1</td>\n",
       "    </tr>\n",
       "    <tr>\n",
       "      <th>1</th>\n",
       "      <td>2</td>\n",
       "      <td>1519226966</td>\n",
       "      <td>True</td>\n",
       "      <td>2.0</td>\n",
       "      <td>0.0</td>\n",
       "      <td>9</td>\n",
       "      <td>9</td>\n",
       "      <td>2</td>\n",
       "      <td>10</td>\n",
       "      <td>2</td>\n",
       "    </tr>\n",
       "    <tr>\n",
       "      <th>2</th>\n",
       "      <td>3</td>\n",
       "      <td>1444581588</td>\n",
       "      <td>True</td>\n",
       "      <td>29.0</td>\n",
       "      <td>23.0</td>\n",
       "      <td>91</td>\n",
       "      <td>87</td>\n",
       "      <td>30</td>\n",
       "      <td>192</td>\n",
       "      <td>7</td>\n",
       "    </tr>\n",
       "    <tr>\n",
       "      <th>3</th>\n",
       "      <td>5</td>\n",
       "      <td>1499859939</td>\n",
       "      <td>True</td>\n",
       "      <td>2.0</td>\n",
       "      <td>2.0</td>\n",
       "      <td>11</td>\n",
       "      <td>11</td>\n",
       "      <td>4</td>\n",
       "      <td>12</td>\n",
       "      <td>2</td>\n",
       "    </tr>\n",
       "    <tr>\n",
       "      <th>4</th>\n",
       "      <td>7</td>\n",
       "      <td>1521634660</td>\n",
       "      <td>True</td>\n",
       "      <td>0.0</td>\n",
       "      <td>0.0</td>\n",
       "      <td>1</td>\n",
       "      <td>1</td>\n",
       "      <td>0</td>\n",
       "      <td>1</td>\n",
       "      <td>1</td>\n",
       "    </tr>\n",
       "  </tbody>\n",
       "</table>\n",
       "</div>"
      ],
      "text/plain": [
       "   user_id  last_timestamp  is_gone_user  correct  wrong  discovered  passed  \\\n",
       "0        1      1472827464          True      0.0    0.0           1       0   \n",
       "1        2      1519226966          True      2.0    0.0           9       9   \n",
       "2        3      1444581588          True     29.0   23.0          91      87   \n",
       "3        5      1499859939          True      2.0    2.0          11      11   \n",
       "4        7      1521634660          True      0.0    0.0           1       1   \n",
       "\n",
       "   started_attempt  viewed  day  \n",
       "0                0       1    1  \n",
       "1                2      10    2  \n",
       "2               30     192    7  \n",
       "3                4      12    2  \n",
       "4                0       1    1  "
      ]
     },
     "execution_count": 135,
     "metadata": {},
     "output_type": "execute_result"
    }
   ],
   "source": [
    "users_data.head()"
   ]
  },
  {
   "cell_type": "code",
   "execution_count": 136,
   "id": "6101c997",
   "metadata": {},
   "outputs": [
    {
     "data": {
      "text/plain": [
       "19234"
      ]
     },
     "execution_count": 136,
     "metadata": {},
     "output_type": "execute_result"
    }
   ],
   "source": [
    "users_data.user_id.nunique()"
   ]
  },
  {
   "cell_type": "code",
   "execution_count": 137,
   "id": "67e5a55a",
   "metadata": {},
   "outputs": [
    {
     "data": {
      "text/plain": [
       "19234"
      ]
     },
     "execution_count": 137,
     "metadata": {},
     "output_type": "execute_result"
    }
   ],
   "source": [
    "event_data.user_id.nunique()"
   ]
  },
  {
   "cell_type": "code",
   "execution_count": 138,
   "id": "4b603621",
   "metadata": {},
   "outputs": [],
   "source": [
    "users_data['passed_course'] = users_data.passed > 170"
   ]
  },
  {
   "cell_type": "code",
   "execution_count": 139,
   "id": "60cc0a99",
   "metadata": {},
   "outputs": [
    {
     "data": {
      "text/html": [
       "<div>\n",
       "<style scoped>\n",
       "    .dataframe tbody tr th:only-of-type {\n",
       "        vertical-align: middle;\n",
       "    }\n",
       "\n",
       "    .dataframe tbody tr th {\n",
       "        vertical-align: top;\n",
       "    }\n",
       "\n",
       "    .dataframe thead th {\n",
       "        text-align: right;\n",
       "    }\n",
       "</style>\n",
       "<table border=\"1\" class=\"dataframe\">\n",
       "  <thead>\n",
       "    <tr style=\"text-align: right;\">\n",
       "      <th></th>\n",
       "      <th>user_id</th>\n",
       "      <th>last_timestamp</th>\n",
       "      <th>is_gone_user</th>\n",
       "      <th>correct</th>\n",
       "      <th>wrong</th>\n",
       "      <th>discovered</th>\n",
       "      <th>passed</th>\n",
       "      <th>started_attempt</th>\n",
       "      <th>viewed</th>\n",
       "      <th>day</th>\n",
       "      <th>passed_course</th>\n",
       "    </tr>\n",
       "  </thead>\n",
       "  <tbody>\n",
       "    <tr>\n",
       "      <th>0</th>\n",
       "      <td>1</td>\n",
       "      <td>1472827464</td>\n",
       "      <td>True</td>\n",
       "      <td>0.0</td>\n",
       "      <td>0.0</td>\n",
       "      <td>1</td>\n",
       "      <td>0</td>\n",
       "      <td>0</td>\n",
       "      <td>1</td>\n",
       "      <td>1</td>\n",
       "      <td>False</td>\n",
       "    </tr>\n",
       "    <tr>\n",
       "      <th>1</th>\n",
       "      <td>2</td>\n",
       "      <td>1519226966</td>\n",
       "      <td>True</td>\n",
       "      <td>2.0</td>\n",
       "      <td>0.0</td>\n",
       "      <td>9</td>\n",
       "      <td>9</td>\n",
       "      <td>2</td>\n",
       "      <td>10</td>\n",
       "      <td>2</td>\n",
       "      <td>False</td>\n",
       "    </tr>\n",
       "    <tr>\n",
       "      <th>2</th>\n",
       "      <td>3</td>\n",
       "      <td>1444581588</td>\n",
       "      <td>True</td>\n",
       "      <td>29.0</td>\n",
       "      <td>23.0</td>\n",
       "      <td>91</td>\n",
       "      <td>87</td>\n",
       "      <td>30</td>\n",
       "      <td>192</td>\n",
       "      <td>7</td>\n",
       "      <td>False</td>\n",
       "    </tr>\n",
       "    <tr>\n",
       "      <th>3</th>\n",
       "      <td>5</td>\n",
       "      <td>1499859939</td>\n",
       "      <td>True</td>\n",
       "      <td>2.0</td>\n",
       "      <td>2.0</td>\n",
       "      <td>11</td>\n",
       "      <td>11</td>\n",
       "      <td>4</td>\n",
       "      <td>12</td>\n",
       "      <td>2</td>\n",
       "      <td>False</td>\n",
       "    </tr>\n",
       "    <tr>\n",
       "      <th>4</th>\n",
       "      <td>7</td>\n",
       "      <td>1521634660</td>\n",
       "      <td>True</td>\n",
       "      <td>0.0</td>\n",
       "      <td>0.0</td>\n",
       "      <td>1</td>\n",
       "      <td>1</td>\n",
       "      <td>0</td>\n",
       "      <td>1</td>\n",
       "      <td>1</td>\n",
       "      <td>False</td>\n",
       "    </tr>\n",
       "  </tbody>\n",
       "</table>\n",
       "</div>"
      ],
      "text/plain": [
       "   user_id  last_timestamp  is_gone_user  correct  wrong  discovered  passed  \\\n",
       "0        1      1472827464          True      0.0    0.0           1       0   \n",
       "1        2      1519226966          True      2.0    0.0           9       9   \n",
       "2        3      1444581588          True     29.0   23.0          91      87   \n",
       "3        5      1499859939          True      2.0    2.0          11      11   \n",
       "4        7      1521634660          True      0.0    0.0           1       1   \n",
       "\n",
       "   started_attempt  viewed  day  passed_course  \n",
       "0                0       1    1          False  \n",
       "1                2      10    2          False  \n",
       "2               30     192    7          False  \n",
       "3                4      12    2          False  \n",
       "4                0       1    1          False  "
      ]
     },
     "execution_count": 139,
     "metadata": {},
     "output_type": "execute_result"
    }
   ],
   "source": [
    "users_data.head()"
   ]
  },
  {
   "cell_type": "code",
   "execution_count": 141,
   "id": "7729fabe",
   "metadata": {},
   "outputs": [
    {
     "data": {
      "text/html": [
       "<div>\n",
       "<style scoped>\n",
       "    .dataframe tbody tr th:only-of-type {\n",
       "        vertical-align: middle;\n",
       "    }\n",
       "\n",
       "    .dataframe tbody tr th {\n",
       "        vertical-align: top;\n",
       "    }\n",
       "\n",
       "    .dataframe thead th {\n",
       "        text-align: right;\n",
       "    }\n",
       "</style>\n",
       "<table border=\"1\" class=\"dataframe\">\n",
       "  <thead>\n",
       "    <tr style=\"text-align: right;\">\n",
       "      <th></th>\n",
       "      <th>passed_course</th>\n",
       "      <th>user_id</th>\n",
       "      <th>last_timestamp</th>\n",
       "      <th>is_gone_user</th>\n",
       "      <th>correct</th>\n",
       "      <th>wrong</th>\n",
       "      <th>discovered</th>\n",
       "      <th>passed</th>\n",
       "      <th>started_attempt</th>\n",
       "      <th>viewed</th>\n",
       "      <th>day</th>\n",
       "    </tr>\n",
       "  </thead>\n",
       "  <tbody>\n",
       "    <tr>\n",
       "      <th>0</th>\n",
       "      <td>False</td>\n",
       "      <td>17809</td>\n",
       "      <td>17809</td>\n",
       "      <td>17809</td>\n",
       "      <td>17809</td>\n",
       "      <td>17809</td>\n",
       "      <td>17809</td>\n",
       "      <td>17809</td>\n",
       "      <td>17809</td>\n",
       "      <td>17809</td>\n",
       "      <td>17809</td>\n",
       "    </tr>\n",
       "    <tr>\n",
       "      <th>1</th>\n",
       "      <td>True</td>\n",
       "      <td>1425</td>\n",
       "      <td>1425</td>\n",
       "      <td>1425</td>\n",
       "      <td>1425</td>\n",
       "      <td>1425</td>\n",
       "      <td>1425</td>\n",
       "      <td>1425</td>\n",
       "      <td>1425</td>\n",
       "      <td>1425</td>\n",
       "      <td>1425</td>\n",
       "    </tr>\n",
       "  </tbody>\n",
       "</table>\n",
       "</div>"
      ],
      "text/plain": [
       "   passed_course  user_id  last_timestamp  is_gone_user  correct  wrong  \\\n",
       "0          False    17809           17809         17809    17809  17809   \n",
       "1           True     1425            1425          1425     1425   1425   \n",
       "\n",
       "   discovered  passed  started_attempt  viewed    day  \n",
       "0       17809   17809            17809   17809  17809  \n",
       "1        1425    1425             1425    1425   1425  "
      ]
     },
     "execution_count": 141,
     "metadata": {},
     "output_type": "execute_result"
    }
   ],
   "source": [
    "users_data.groupby('passed_course', as_index=False).count()"
   ]
  },
  {
   "cell_type": "code",
   "execution_count": 142,
   "id": "d6efa492",
   "metadata": {},
   "outputs": [
    {
     "data": {
      "text/plain": [
       "8.001572238755685"
      ]
     },
     "execution_count": 142,
     "metadata": {},
     "output_type": "execute_result"
    }
   ],
   "source": [
    "100 * 1425 / 17809 "
   ]
  },
  {
   "cell_type": "code",
   "execution_count": null,
   "id": "c53259b0",
   "metadata": {},
   "outputs": [],
   "source": []
  }
 ],
 "metadata": {
  "kernelspec": {
   "display_name": "Python 3 (ipykernel)",
   "language": "python",
   "name": "python3"
  },
  "language_info": {
   "codemirror_mode": {
    "name": "ipython",
    "version": 3
   },
   "file_extension": ".py",
   "mimetype": "text/x-python",
   "name": "python",
   "nbconvert_exporter": "python",
   "pygments_lexer": "ipython3",
   "version": "3.7.8"
  }
 },
 "nbformat": 4,
 "nbformat_minor": 5
}
